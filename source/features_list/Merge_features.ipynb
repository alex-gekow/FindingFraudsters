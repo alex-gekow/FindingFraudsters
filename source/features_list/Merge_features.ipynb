{
 "cells": [
  {
   "cell_type": "code",
   "execution_count": 110,
   "metadata": {},
   "outputs": [
    {
     "name": "stdout",
     "output_type": "stream",
     "text": [
      "                  0\n",
      "0     TransactionID\n",
      "1     TransactionDT\n",
      "2    TransactionAmt\n",
      "3         ProductCD\n",
      "4             card1\n",
      "..              ...\n",
      "747            V305\n",
      "748            V309\n",
      "749            V310\n",
      "750            V313\n",
      "751            V319\n",
      "\n",
      "[752 rows x 1 columns]\n"
     ]
    }
   ],
   "source": [
    "import pandas as pd\n",
    "from collections import Counter\n",
    "\n",
    "\n",
    "Transaction_1 = pd.read_csv(\"Transaction_1.txt\", delimiter='\\t', header=None)\n",
    "Transaction_2 = pd.read_csv(\"Transaction_2.txt\", delimiter='\\t', header=None)\n",
    "Transaction_3 = pd.read_csv(\"Transaction_3.txt\", delimiter='\\t', header=None)\n",
    "Transaction_4 = pd.read_csv(\"Transaction_4.txt\", delimiter='\\t', header=None)\n",
    "Transaction_5 = pd.read_csv(\"Transaction_5.txt\", delimiter='\\t', header=None)\n",
    "\n",
    "merged_features = pd.concat([Transaction_1, Transaction_2, Transaction_3, Transaction_4, Transaction_5], ignore_index=True)\n",
    "\n",
    "print(merged_features)"
   ]
  },
  {
   "cell_type": "code",
   "execution_count": 111,
   "metadata": {},
   "outputs": [
    {
     "name": "stdout",
     "output_type": "stream",
     "text": [
      "['TransactionID', 'TransactionDT', 'TransactionAmt', 'ProductCD', 'card1', 'card2', 'card3', 'card4', 'card5', 'card6', 'addr1', 'addr2', 'dist1', 'P_emaildomain', 'R_emaildomain', 'C1', 'C3', 'C5', 'C7', 'C9', 'C13', 'D1', 'D3', 'D4', 'D5', 'D10', 'D11', 'D13', 'D15', 'M3', 'M4', 'M5', 'M6', 'M8', 'M9', 'V12', 'V20', 'V38', 'V44', 'V45', 'V53', 'V56', 'V62', 'V67', 'V81', 'V82', 'V83', 'V87', 'V99', 'V130', 'V165', 'V258', 'V261', 'V281', 'V282', 'V283', 'V285', 'V308', 'V309', 'V310', 'V313', 'V314', 'V223', 'C4', 'C10', 'C12', 'V289', 'V86', 'C2', 'V26', 'C8', 'V108', 'V284', 'V279', 'V173', 'M1', 'V304', 'V37', 'V286', 'V98', 'V94', 'V288', 'V55', 'M7', 'V95', 'V77', 'V125', 'C6', 'C11', 'C14', 'D2', 'M2', 'V1', 'V2', 'V6', 'V10', 'V14', 'V19', 'V23', 'V25', 'V35', 'V39', 'V46', 'V61', 'V65', 'V66', 'V75', 'V88', 'V89', 'V107', 'V109', 'V115', 'V117', 'V118', 'V120', 'V121', 'V123', 'V124', 'V135', 'V290', 'V300', 'V305', 'V319']\n",
      "Duplicates: []\n"
     ]
    }
   ],
   "source": [
    "\n",
    "\n",
    "def frequent_strings(input_array, min_count):\n",
    "    count = Counter(input_array)\n",
    "    result = [item for item, freq in count.items() if freq >= min_count]\n",
    "    return result\n",
    "\n",
    "# Flatten the DataFrame to a list of all elements\n",
    "flat_strings = merged_features.values.flatten().tolist()\n",
    "\n",
    "output_transaction = frequent_strings(flat_strings, 3)  # or any `min_count` you want\n",
    "print((output_transaction))\n",
    "\n",
    "top_extra_features = [\"V242\", \"V188\", \"V172\", \"V72\", \"V70\", \"V91\", \"V156\", \"V294\", \"V189\", \"V90\"]\n",
    "\n",
    "output_transaction += top_extra_features\n",
    "\n",
    "duplicates = [item for item in set(output_transaction) if output_transaction.count(item) > 1]\n",
    "\n",
    "print(\"Duplicates:\", duplicates)\n"
   ]
  },
  {
   "cell_type": "code",
   "execution_count": 112,
   "metadata": {},
   "outputs": [],
   "source": [
    "df = pd.DataFrame({'Transaction':output_transaction})\n",
    "\n",
    "df.to_csv(\"Transaction_features.txt\", index=False, header=False)"
   ]
  },
  {
   "cell_type": "code",
   "execution_count": 113,
   "metadata": {},
   "outputs": [
    {
     "name": "stdout",
     "output_type": "stream",
     "text": [
      "              0\n",
      "0         id_01\n",
      "1         id_02\n",
      "2         id_05\n",
      "3         id_06\n",
      "4         id_11\n",
      "..          ...\n",
      "96        id_36\n",
      "97        id_37\n",
      "98        id_38\n",
      "99   DeviceType\n",
      "100  DeviceInfo\n",
      "\n",
      "[101 rows x 1 columns]\n"
     ]
    }
   ],
   "source": [
    "id_a = pd.read_csv(\"id_1.txt\", delimiter='\\t', header=None)\n",
    "id_b = pd.read_csv(\"id_2.txt\", delimiter='\\t', header=None)\n",
    "id_c = pd.read_csv(\"id_3.txt\", delimiter='\\t', header=None)\n",
    "id_d = pd.read_csv(\"id_4.txt\", delimiter='\\t', header=None)\n",
    "\n",
    "merged_features_id = pd.concat([id_a, id_b, id_c, id_d], ignore_index=True) # all your arrays here\n",
    "\n",
    "\n",
    "print(merged_features_id)\n"
   ]
  },
  {
   "cell_type": "code",
   "execution_count": 114,
   "metadata": {},
   "outputs": [
    {
     "name": "stdout",
     "output_type": "stream",
     "text": [
      "['id_01', 'id_02', 'id_05', 'id_06', 'id_11', 'id_12', 'id_13', 'id_15', 'id_16', 'id_17', 'id_19', 'id_20', 'id_28', 'id_29', 'id_30', 'id_31', 'id_33', 'id_34', 'id_35', 'id_36', 'id_37', 'id_38', 'DeviceType', 'DeviceInfo']\n",
      "24\n"
     ]
    }
   ],
   "source": [
    "# Flatten the DataFrame to a list of all elements\n",
    "flat_strings_id = merged_features_id.values.flatten().tolist()\n",
    "\n",
    "# Now use the function\n",
    "output_id = frequent_strings(flat_strings_id, 3)  # or any `min_count` you want\n",
    "print(output_id)\n",
    "\n",
    "print(len(output_id))"
   ]
  },
  {
   "cell_type": "code",
   "execution_count": 115,
   "metadata": {},
   "outputs": [],
   "source": [
    "df = pd.DataFrame({'id':output_id})\n",
    "\n",
    "df.to_csv(\"id_features.txt\", index=False, header=False)"
   ]
  }
 ],
 "metadata": {
  "kernelspec": {
   "display_name": "base",
   "language": "python",
   "name": "python3"
  },
  "language_info": {
   "codemirror_mode": {
    "name": "ipython",
    "version": 3
   },
   "file_extension": ".py",
   "mimetype": "text/x-python",
   "name": "python",
   "nbconvert_exporter": "python",
   "pygments_lexer": "ipython3",
   "version": "3.12.7"
  }
 },
 "nbformat": 4,
 "nbformat_minor": 2
}
