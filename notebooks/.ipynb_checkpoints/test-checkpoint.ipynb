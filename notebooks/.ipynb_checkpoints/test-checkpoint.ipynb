{
 "cells": [
  {
   "cell_type": "code",
   "execution_count": null,
   "id": "2e3bf9d2-33bb-4979-9521-6d29d5ed0d7b",
   "metadata": {},
   "outputs": [],
   "source": [
    "import numpy as np\n",
    "import matplotlib.pyplot as plt"
   ]
  },
  {
   "cell_type": "code",
   "execution_count": null,
   "id": "8cb0fedf-88d4-4ad1-872b-f25f9851069f",
   "metadata": {},
   "outputs": [],
   "source": [
    "rng = np.random.default_rng(216)\n",
    "## randomly generated data\n",
    "x = rng.uniform(-6,6, 500) \n",
    "y = 3*x+ x**2 + 5*rng.standard_normal(500)"
   ]
  },
  {
   "cell_type": "code",
   "execution_count": null,
   "id": "68b24fe5-cd3f-4d12-bfe8-9aa75858dea8",
   "metadata": {},
   "outputs": [],
   "source": [
    "## Visualize that data\n",
    "plt.figure(figsize=(8,6))\n",
    "\n",
    "plt.scatter(x, y)\n",
    "\n",
    "plt.xlabel(\"$x$\", fontsize=12)\n",
    "plt.ylabel(\"$y$\", fontsize=12)\n",
    "\n",
    "plt.show()"
   ]
  }
 ],
 "metadata": {
  "kernelspec": {
   "display_name": "Python 3 (ipykernel)",
   "language": "python",
   "name": "python3"
  },
  "language_info": {
   "codemirror_mode": {
    "name": "ipython",
    "version": 3
   },
   "file_extension": ".py",
   "mimetype": "text/x-python",
   "name": "python",
   "nbconvert_exporter": "python",
   "pygments_lexer": "ipython3",
   "version": "3.13.3"
  }
 },
 "nbformat": 4,
 "nbformat_minor": 5
}
