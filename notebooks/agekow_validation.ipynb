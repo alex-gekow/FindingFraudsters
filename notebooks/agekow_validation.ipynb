{
 "cells": [
  {
   "cell_type": "code",
   "execution_count": null,
   "id": "24ddf166",
   "metadata": {},
   "outputs": [],
   "source": [
    "import pandas as pd\n",
    "import os, gc, sys\n",
    "import numpy as np\n",
    "import matplotlib.pyplot as plt\n",
    "import seaborn as sns\n",
    "import xgboost as xgb\n",
    "\n",
    "from sklearn.metrics import roc_curve,auc, precision_recall_curve\n",
    "from sklearn.model_selection import KFold\n",
    "from sklearn.ensemble import IsolationForest\n",
    "from sklearn.metrics import confusion_matrix, ConfusionMatrixDisplay, precision_score\n",
    "\n",
    "\n",
    "sys.path.append(\"../source/\")\n",
    "from data_loader import *\n"
   ]
  },
  {
   "cell_type": "code",
   "execution_count": 3,
   "id": "6c47e8a3",
   "metadata": {},
   "outputs": [
    {
     "name": "stdout",
     "output_type": "stream",
     "text": [
      "<class 'pandas.core.frame.DataFrame'>\n",
      "RangeIndex: 506691 entries, 0 to 506690\n",
      "Columns: 393 entries, TransactionID to V339\n",
      "dtypes: float32(376), int16(1), int32(2), object(14)\n",
      "memory usage: 1.0 GB\n"
     ]
    },
    {
     "name": "stderr",
     "output_type": "stream",
     "text": [
      "/home/alex/Research/FindingFraudsters/FindingFraudsters/notebooks/../source/helper_functions.py:19: PerformanceWarning: DataFrame is highly fragmented.  This is usually the result of calling `frame.insert` many times, which has poor performance.  Consider joining all columns at once using pd.concat(axis=1) instead. To get a de-fragmented frame, use `newframe = frame.copy()`\n",
      "  df[\"TransactionDay\"] = np.floor(df[\"TransactionDT\"] / (24*60*60))\n",
      "/home/alex/Research/FindingFraudsters/FindingFraudsters/notebooks/../source/helper_functions.py:37: PerformanceWarning: DataFrame is highly fragmented.  This is usually the result of calling `frame.insert` many times, which has poor performance.  Consider joining all columns at once using pd.concat(axis=1) instead. To get a de-fragmented frame, use `newframe = frame.copy()`\n",
      "  df[\"D1n\"] = df[\"TransactionDay\"] - df[\"D1\"]\n",
      "/home/alex/Research/FindingFraudsters/FindingFraudsters/notebooks/../source/helper_functions.py:38: PerformanceWarning: DataFrame is highly fragmented.  This is usually the result of calling `frame.insert` many times, which has poor performance.  Consider joining all columns at once using pd.concat(axis=1) instead. To get a de-fragmented frame, use `newframe = frame.copy()`\n",
      "  df['uid'] = df[\"card1\"].astype(str)+'_'+df[\"addr1\"].astype(str)+'_'+df[\"D1n\"].astype(str)\n"
     ]
    },
    {
     "name": "stdout",
     "output_type": "stream",
     "text": [
      "<class 'pandas.core.frame.DataFrame'>\n",
      "RangeIndex: 506691 entries, 0 to 506690\n",
      "Columns: 439 entries, TransactionID to R_emaildomain_FE\n",
      "dtypes: bool(9), float32(418), float64(2), int16(1), int32(2), int8(6), object(1)\n",
      "memory usage: 859.3 MB\n",
      "<class 'pandas.core.frame.DataFrame'>\n",
      "RangeIndex: 144233 entries, 0 to 144232\n",
      "Data columns (total 41 columns):\n",
      " #   Column         Non-Null Count   Dtype  \n",
      "---  ------         --------------   -----  \n",
      " 0   TransactionID  144233 non-null  int32  \n",
      " 1   id_01          144233 non-null  float32\n",
      " 2   id_02          140872 non-null  float32\n",
      " 3   id_03          66324 non-null   float32\n",
      " 4   id_04          66324 non-null   float32\n",
      " 5   id_05          136865 non-null  float32\n",
      " 6   id_06          136865 non-null  float32\n",
      " 7   id_07          5155 non-null    float32\n",
      " 8   id_08          5155 non-null    float32\n",
      " 9   id_09          74926 non-null   float32\n",
      " 10  id_10          74926 non-null   float32\n",
      " 11  id_11          140978 non-null  float32\n",
      " 12  id_12          144233 non-null  object \n",
      " 13  id_13          127320 non-null  float32\n",
      " 14  id_14          80044 non-null   float32\n",
      " 15  id_15          140985 non-null  object \n",
      " 16  id_16          129340 non-null  object \n",
      " 17  id_17          139369 non-null  float32\n",
      " 18  id_18          45113 non-null   float32\n",
      " 19  id_19          139318 non-null  float32\n",
      " 20  id_20          139261 non-null  float32\n",
      " 21  id_21          5159 non-null    float32\n",
      " 22  id_22          5169 non-null    float32\n",
      " 23  id_23          5169 non-null    object \n",
      " 24  id_24          4747 non-null    float32\n",
      " 25  id_25          5132 non-null    float32\n",
      " 26  id_26          5163 non-null    float32\n",
      " 27  id_27          5169 non-null    object \n",
      " 28  id_28          140978 non-null  object \n",
      " 29  id_29          140978 non-null  object \n",
      " 30  id_30          77565 non-null   object \n",
      " 31  id_31          140282 non-null  object \n",
      " 32  id_32          77586 non-null   float32\n",
      " 33  id_33          73289 non-null   object \n",
      " 34  id_34          77805 non-null   object \n",
      " 35  id_35          140985 non-null  object \n",
      " 36  id_36          140985 non-null  object \n",
      " 37  id_37          140985 non-null  object \n",
      " 38  id_38          140985 non-null  object \n",
      " 39  DeviceType     140810 non-null  object \n",
      " 40  DeviceInfo     118666 non-null  object \n",
      "dtypes: float32(23), int32(1), object(17)\n",
      "memory usage: 129.9 MB\n",
      "<class 'pandas.core.frame.DataFrame'>\n",
      "RangeIndex: 144233 entries, 0 to 144232\n",
      "Data columns (total 41 columns):\n",
      " #   Column         Non-Null Count   Dtype  \n",
      "---  ------         --------------   -----  \n",
      " 0   TransactionID  144233 non-null  int32  \n",
      " 1   id_01          144233 non-null  float32\n",
      " 2   id_02          140872 non-null  float32\n",
      " 3   id_03          66324 non-null   float32\n",
      " 4   id_04          66324 non-null   float32\n",
      " 5   id_05          136865 non-null  float32\n",
      " 6   id_06          136865 non-null  float32\n",
      " 7   id_07          5155 non-null    float32\n",
      " 8   id_08          5155 non-null    float32\n",
      " 9   id_09          74926 non-null   float32\n",
      " 10  id_10          74926 non-null   float32\n",
      " 11  id_11          140978 non-null  float32\n",
      " 12  id_12          144233 non-null  object \n",
      " 13  id_13          127320 non-null  float32\n",
      " 14  id_14          80044 non-null   float32\n",
      " 15  id_15          140985 non-null  object \n",
      " 16  id_16          129340 non-null  object \n",
      " 17  id_17          139369 non-null  float32\n",
      " 18  id_18          45113 non-null   float32\n",
      " 19  id_19          139318 non-null  float32\n",
      " 20  id_20          139261 non-null  float32\n",
      " 21  id_21          5159 non-null    float32\n",
      " 22  id_22          5169 non-null    float32\n",
      " 23  id_23          5169 non-null    object \n",
      " 24  id_24          4747 non-null    float32\n",
      " 25  id_25          5132 non-null    float32\n",
      " 26  id_26          5163 non-null    float32\n",
      " 27  id_27          5169 non-null    object \n",
      " 28  id_28          140978 non-null  object \n",
      " 29  id_29          140978 non-null  object \n",
      " 30  id_30          77565 non-null   object \n",
      " 31  id_31          140282 non-null  object \n",
      " 32  id_32          77586 non-null   float32\n",
      " 33  id_33          73289 non-null   object \n",
      " 34  id_34          77805 non-null   object \n",
      " 35  id_35          140985 non-null  object \n",
      " 36  id_36          140985 non-null  object \n",
      " 37  id_37          140985 non-null  object \n",
      " 38  id_38          140985 non-null  object \n",
      " 39  DeviceType     140810 non-null  object \n",
      " 40  DeviceInfo     118666 non-null  object \n",
      "dtypes: float32(23), int32(1), object(17)\n",
      "memory usage: 129.9 MB\n"
     ]
    },
    {
     "data": {
      "text/plain": [
       "20"
      ]
     },
     "execution_count": 3,
     "metadata": {},
     "output_type": "execute_result"
    }
   ],
   "source": [
    "useID = True\n",
    "\n",
    "dl = DataLoader()\n",
    "df_tr = dl.load_csv(\"test_transaction.csv\")\n",
    "# df_tr_test = dl.load_csv(\"test_transaction.csv\")\n",
    "\n",
    "if useID:\n",
    "    dl.transaction = False\n",
    "    df_id = dl.load_csv(\"train_identity.csv\")\n",
    "\n",
    "    df = df_tr.merge(df_id, how='left', left_index=True, right_index=True)\n",
    "\n",
    "    del df_id, df_tr #, df_tr_test\n",
    "\n",
    "else:\n",
    "    df = df_tr\n",
    "    #df_test = df_tr_test\n",
    "    del df_tr#, df_tr_test\n",
    "\n",
    "\n",
    "# df_train['isTrain'] = 1\n",
    "# df_test['isTrain'] = 0\n",
    "\n",
    "# df = pd.concat([df_train, df_test])\n",
    "gc.collect()"
   ]
  },
  {
   "cell_type": "code",
   "execution_count": 3,
   "id": "176ea39d",
   "metadata": {},
   "outputs": [],
   "source": [
    "with open(\"drop_columns.txt\") as f:\n",
    "    to_drop = f.readlines()\n",
    "\n",
    "to_drop = [item.strip() for item in to_drop]\n",
    "df = df.drop(columns=to_drop)\n"
   ]
  },
  {
   "cell_type": "code",
   "execution_count": 4,
   "id": "9b4f210a",
   "metadata": {},
   "outputs": [
    {
     "name": "stderr",
     "output_type": "stream",
     "text": [
      "/tmp/ipykernel_12686/1998728245.py:1: PerformanceWarning: DataFrame is highly fragmented.  This is usually the result of calling `frame.insert` many times, which has poor performance.  Consider joining all columns at once using pd.concat(axis=1) instead. To get a de-fragmented frame, use `newframe = frame.copy()`\n",
      "  df[\"D1n\"] = df[\"TransactionDay\"] - df[\"D1\"]\n",
      "/tmp/ipykernel_12686/1998728245.py:2: PerformanceWarning: DataFrame is highly fragmented.  This is usually the result of calling `frame.insert` many times, which has poor performance.  Consider joining all columns at once using pd.concat(axis=1) instead. To get a de-fragmented frame, use `newframe = frame.copy()`\n",
      "  df['uid'] = df[\"card1\"].astype(str)+'_'+df[\"addr1\"].astype(str)+'_'+df[\"D1n\"].astype(str)\n"
     ]
    }
   ],
   "source": [
    "df[\"D1n\"] = df[\"TransactionDay\"] - df[\"D1\"]\n",
    "df['uid'] = df[\"card1\"].astype(str)+'_'+df[\"addr1\"].astype(str)+'_'+df[\"D1n\"].astype(str)\n",
    "# df_train = df_train.drop(columns=[\"TransactionID\"])transactionID = df['TransactionID']\n",
    "TransactionID = df['TransactionID'].values\n",
    "df = df.drop(columns=[\"TransactionID\"])"
   ]
  },
  {
   "cell_type": "code",
   "execution_count": 5,
   "id": "c4fe5957",
   "metadata": {},
   "outputs": [],
   "source": [
    "# Sort by TransactionTD\n",
    "df = df.sort_values('TransactionDT').reset_index(drop=True)\n",
    "\n",
    "# Create an empty column\n",
    "df['IsDuplicateInWindow'] = 1\n",
    "\n",
    "# Get numpy arrays for faster operations\n",
    "tds = df['TransactionDT'].values\n",
    "amts = df['TransactionAmt'].values\n",
    "\n",
    "# Use searchsorted to find window ranges\n",
    "for i in range(len(df)):\n",
    "    lower = tds[i] - 500\n",
    "    upper = tds[i] + 500\n",
    "\n",
    "    # Find indices where TD is within ±100\n",
    "    start = np.searchsorted(tds, lower, side='left')\n",
    "    end = np.searchsorted(tds, upper, side='right')\n",
    "\n",
    "    # Slice the relevant window and check for other matching TransactionAmt\n",
    "    window_amts = amts[start:end]\n",
    "    match_count = np.sum(window_amts == amts[i])\n",
    "\n",
    "    df.at[i, 'IsDuplicateInWindow'] = match_count\n"
   ]
  },
  {
   "cell_type": "code",
   "execution_count": 6,
   "id": "7fef3eb5",
   "metadata": {},
   "outputs": [],
   "source": [
    "columns_to_encode = []\n",
    "# columns_to_encode = [v for v in df.columns if v.startswith(\"V\")]\n",
    "columns_to_encode.append(\"TransactionAmt\")\n",
    "columns_to_encode.append(\"TransactionDT\")\n",
    "d_columns = [d for d in df.columns if d.startswith(\"D\")]\n",
    "columns_to_encode += d_columns\n",
    "df = encode_AG(df, 'uid', columns_to_encode)\n",
    "\n",
    "columns_to_encode = [\"addr1\", \"card1\", \"card2\", \"card3\", \"P_emaildomain\", \"R_emaildomain\"]\n",
    "df = encode_FE(df, columns_to_encode)\n",
    "\n"
   ]
  },
  {
   "cell_type": "code",
   "execution_count": 10,
   "id": "ceb88875",
   "metadata": {},
   "outputs": [],
   "source": [
    "model = xgb.Booster()\n",
    "model.load_model('model.json')\n",
    "\n",
    "# df = df.drop(columns=[\"uid\", \"card1\", \"addr1\", \"D1\"])\n",
    "X = df.drop(columns=[\"uid\"])\n",
    "\n",
    "dval = xgb.DMatrix(X)\n",
    "y_prob = model.predict(dval)\n",
    "\n"
   ]
  },
  {
   "cell_type": "code",
   "execution_count": null,
   "id": "c4886bae",
   "metadata": {},
   "outputs": [],
   "source": [
    "output_df = pd.DataFrame(data=zip(TransactionID,y_prob), columns=[\"TransactionID\", \"isFraud\"])\n",
    "output_df.to_csv(\"test_predictions.csv\", index=False)"
   ]
  },
  {
   "cell_type": "code",
   "execution_count": null,
   "id": "b1ec8c8d",
   "metadata": {},
   "outputs": [],
   "source": []
  }
 ],
 "metadata": {
  "kernelspec": {
   "display_name": "fraudsters",
   "language": "python",
   "name": "python3"
  },
  "language_info": {
   "codemirror_mode": {
    "name": "ipython",
    "version": 3
   },
   "file_extension": ".py",
   "mimetype": "text/x-python",
   "name": "python",
   "nbconvert_exporter": "python",
   "pygments_lexer": "ipython3",
   "version": "3.13.3"
  }
 },
 "nbformat": 4,
 "nbformat_minor": 5
}
